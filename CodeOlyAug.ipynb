{
  "nbformat": 4,
  "nbformat_minor": 0,
  "metadata": {
    "colab": {
      "provenance": []
    },
    "kernelspec": {
      "name": "python3",
      "display_name": "Python 3"
    },
    "language_info": {
      "name": "python"
    }
  },
  "cells": [
    {
      "cell_type": "code",
      "execution_count": 29,
      "metadata": {
        "colab": {
          "base_uri": "https://localhost:8080/"
        },
        "id": "8GaSvjw0j-Ua",
        "outputId": "daefd90b-2d80-4ead-b663-fbeb4c0dadf2"
      },
      "outputs": [
        {
          "output_type": "stream",
          "name": "stdout",
          "text": [
            "1+10\n",
            "Enter an Answer(Round Answers to Whole Number): 11\n",
            "Correct\n",
            "8+4\n",
            "Enter an Answer(Round Answers to Whole Number): 12\n",
            "Correct\n",
            "4+9\n",
            "Enter an Answer(Round Answers to Whole Number): 13\n",
            "Correct\n",
            "3*5\n",
            "Enter an Answer(Round Answers to Whole Number): 15\n",
            "Correct\n",
            "8+8\n",
            "Enter an Answer(Round Answers to Whole Number): 16\n",
            "Correct\n",
            "2-6\n",
            "Enter an Answer(Round Answers to Whole Number): -3\n",
            "Incorrect\n",
            "2*7\n",
            "Enter an Answer(Round Answers to Whole Number): 14\n",
            "Correct\n",
            "10*9\n",
            "Enter an Answer(Round Answers to Whole Number): 90\n",
            "Correct\n",
            "5+5\n",
            "Enter an Answer(Round Answers to Whole Number): 10\n",
            "Correct\n",
            "7+2\n",
            "Enter an Answer(Round Answers to Whole Number): 9\n",
            "Correct\n",
            "[2.924, 1.541, 1.554, 1.776, 1.575, 1.549]\n",
            "[1.701]\n",
            "[1.654, 1.436, 1.68]\n",
            "[]\n"
          ]
        }
      ],
      "source": [
        "import random\n",
        "import time\n",
        "import pandas as pd\n",
        "import numpy as np\n",
        "import seaborn as sns\n",
        "operatorList = [\"+\", \"-\", \"*\", \"/\"]\n",
        "\n",
        "timeDict = {\n",
        "   \"add\":[],\n",
        "   \"sub\":[],\n",
        "   \"mul\":[],\n",
        "   \"div\":[]\n",
        "}\n",
        "\n",
        "for i in range(1,11):\n",
        "  number1 = random.randint(1,10)\n",
        "  number2 = random.randint(1,10)\n",
        "  operator = random.choice(operatorList)\n",
        "  question = str(number1)+operator+str(number2)\n",
        "  print(question)\n",
        "  start = time.time()\n",
        "  cAnswer  = round(eval(question))\n",
        "  gAnswer = int(input(\"Enter an Answer(Round Answers to Whole Number): \"))\n",
        "  end = time.time()\n",
        "  if cAnswer == gAnswer:\n",
        "      print('Correct')\n",
        "  else:\n",
        "     print(\"Incorrect\")\n",
        "  timeTaken = round(end-start, 3)\n",
        "\n",
        "  if operator == \"+\":\n",
        "     timeDict[\"add\"].append(timeTaken)\n",
        "  elif operator == \"-\":\n",
        "     timeDict[\"sub\"].append(timeTaken)\n",
        "  elif operator == \"*\":\n",
        "     timeDict[\"mul\"].append(timeTaken)\n",
        "  else:\n",
        "     timeDict[\"div\"].append(timeTaken)\n",
        "\n",
        "\n",
        "print(timeDict[\"add\"])\n",
        "print(timeDict[\"sub\"])\n",
        "print(timeDict[\"mul\"])\n",
        "print(timeDict[\"div\"])"
      ]
    },
    {
      "cell_type": "code",
      "source": [
        "ops = ['add' , 'sub' , 'div' , 'mul']\n",
        "avgTime = {}\n",
        "for op in ops:\n",
        "  if len(timeDict[op]) != 0 :\n",
        "    avgTime[op] = sum(timeDict[op])/len(timeDict[op])"
      ],
      "metadata": {
        "id": "XZXrOfynbx_d"
      },
      "execution_count": 30,
      "outputs": []
    },
    {
      "cell_type": "code",
      "source": [
        "timeDF = pd.Series(avgTime)"
      ],
      "metadata": {
        "id": "oCI2R7qmc5YM"
      },
      "execution_count": 31,
      "outputs": []
    },
    {
      "cell_type": "code",
      "source": [
        "timefinalDF = pd.DataFrame(timeDF , columns=[\"avg time\"])"
      ],
      "metadata": {
        "id": "tnGcSnZMdKPl"
      },
      "execution_count": 32,
      "outputs": []
    },
    {
      "cell_type": "code",
      "source": [
        "timefinalDF[\"operator\"] = timefinalDF.index"
      ],
      "metadata": {
        "id": "19jqXuzrkTIk"
      },
      "execution_count": 33,
      "outputs": []
    },
    {
      "cell_type": "code",
      "source": [
        "timefinalDF"
      ],
      "metadata": {
        "colab": {
          "base_uri": "https://localhost:8080/",
          "height": 143
        },
        "id": "oSOKasdHfAA0",
        "outputId": "98554fbf-bd37-4586-978a-6298f252bae7"
      },
      "execution_count": 34,
      "outputs": [
        {
          "output_type": "execute_result",
          "data": {
            "text/plain": [
              "     avg time operator\n",
              "add  1.819833      add\n",
              "sub  1.701000      sub\n",
              "mul  1.590000      mul"
            ],
            "text/html": [
              "\n",
              "  <div id=\"df-1e298922-04e6-42ff-83d1-92286fa4d1ce\" class=\"colab-df-container\">\n",
              "    <div>\n",
              "<style scoped>\n",
              "    .dataframe tbody tr th:only-of-type {\n",
              "        vertical-align: middle;\n",
              "    }\n",
              "\n",
              "    .dataframe tbody tr th {\n",
              "        vertical-align: top;\n",
              "    }\n",
              "\n",
              "    .dataframe thead th {\n",
              "        text-align: right;\n",
              "    }\n",
              "</style>\n",
              "<table border=\"1\" class=\"dataframe\">\n",
              "  <thead>\n",
              "    <tr style=\"text-align: right;\">\n",
              "      <th></th>\n",
              "      <th>avg time</th>\n",
              "      <th>operator</th>\n",
              "    </tr>\n",
              "  </thead>\n",
              "  <tbody>\n",
              "    <tr>\n",
              "      <th>add</th>\n",
              "      <td>1.819833</td>\n",
              "      <td>add</td>\n",
              "    </tr>\n",
              "    <tr>\n",
              "      <th>sub</th>\n",
              "      <td>1.701000</td>\n",
              "      <td>sub</td>\n",
              "    </tr>\n",
              "    <tr>\n",
              "      <th>mul</th>\n",
              "      <td>1.590000</td>\n",
              "      <td>mul</td>\n",
              "    </tr>\n",
              "  </tbody>\n",
              "</table>\n",
              "</div>\n",
              "    <div class=\"colab-df-buttons\">\n",
              "\n",
              "  <div class=\"colab-df-container\">\n",
              "    <button class=\"colab-df-convert\" onclick=\"convertToInteractive('df-1e298922-04e6-42ff-83d1-92286fa4d1ce')\"\n",
              "            title=\"Convert this dataframe to an interactive table.\"\n",
              "            style=\"display:none;\">\n",
              "\n",
              "  <svg xmlns=\"http://www.w3.org/2000/svg\" height=\"24px\" viewBox=\"0 -960 960 960\">\n",
              "    <path d=\"M120-120v-720h720v720H120Zm60-500h600v-160H180v160Zm220 220h160v-160H400v160Zm0 220h160v-160H400v160ZM180-400h160v-160H180v160Zm440 0h160v-160H620v160ZM180-180h160v-160H180v160Zm440 0h160v-160H620v160Z\"/>\n",
              "  </svg>\n",
              "    </button>\n",
              "\n",
              "  <style>\n",
              "    .colab-df-container {\n",
              "      display:flex;\n",
              "      gap: 12px;\n",
              "    }\n",
              "\n",
              "    .colab-df-convert {\n",
              "      background-color: #E8F0FE;\n",
              "      border: none;\n",
              "      border-radius: 50%;\n",
              "      cursor: pointer;\n",
              "      display: none;\n",
              "      fill: #1967D2;\n",
              "      height: 32px;\n",
              "      padding: 0 0 0 0;\n",
              "      width: 32px;\n",
              "    }\n",
              "\n",
              "    .colab-df-convert:hover {\n",
              "      background-color: #E2EBFA;\n",
              "      box-shadow: 0px 1px 2px rgba(60, 64, 67, 0.3), 0px 1px 3px 1px rgba(60, 64, 67, 0.15);\n",
              "      fill: #174EA6;\n",
              "    }\n",
              "\n",
              "    .colab-df-buttons div {\n",
              "      margin-bottom: 4px;\n",
              "    }\n",
              "\n",
              "    [theme=dark] .colab-df-convert {\n",
              "      background-color: #3B4455;\n",
              "      fill: #D2E3FC;\n",
              "    }\n",
              "\n",
              "    [theme=dark] .colab-df-convert:hover {\n",
              "      background-color: #434B5C;\n",
              "      box-shadow: 0px 1px 3px 1px rgba(0, 0, 0, 0.15);\n",
              "      filter: drop-shadow(0px 1px 2px rgba(0, 0, 0, 0.3));\n",
              "      fill: #FFFFFF;\n",
              "    }\n",
              "  </style>\n",
              "\n",
              "    <script>\n",
              "      const buttonEl =\n",
              "        document.querySelector('#df-1e298922-04e6-42ff-83d1-92286fa4d1ce button.colab-df-convert');\n",
              "      buttonEl.style.display =\n",
              "        google.colab.kernel.accessAllowed ? 'block' : 'none';\n",
              "\n",
              "      async function convertToInteractive(key) {\n",
              "        const element = document.querySelector('#df-1e298922-04e6-42ff-83d1-92286fa4d1ce');\n",
              "        const dataTable =\n",
              "          await google.colab.kernel.invokeFunction('convertToInteractive',\n",
              "                                                    [key], {});\n",
              "        if (!dataTable) return;\n",
              "\n",
              "        const docLinkHtml = 'Like what you see? Visit the ' +\n",
              "          '<a target=\"_blank\" href=https://colab.research.google.com/notebooks/data_table.ipynb>data table notebook</a>'\n",
              "          + ' to learn more about interactive tables.';\n",
              "        element.innerHTML = '';\n",
              "        dataTable['output_type'] = 'display_data';\n",
              "        await google.colab.output.renderOutput(dataTable, element);\n",
              "        const docLink = document.createElement('div');\n",
              "        docLink.innerHTML = docLinkHtml;\n",
              "        element.appendChild(docLink);\n",
              "      }\n",
              "    </script>\n",
              "  </div>\n",
              "\n",
              "\n",
              "<div id=\"df-a14b5e17-423c-4192-a886-80d3a87de53c\">\n",
              "  <button class=\"colab-df-quickchart\" onclick=\"quickchart('df-a14b5e17-423c-4192-a886-80d3a87de53c')\"\n",
              "            title=\"Suggest charts.\"\n",
              "            style=\"display:none;\">\n",
              "\n",
              "<svg xmlns=\"http://www.w3.org/2000/svg\" height=\"24px\"viewBox=\"0 0 24 24\"\n",
              "     width=\"24px\">\n",
              "    <g>\n",
              "        <path d=\"M19 3H5c-1.1 0-2 .9-2 2v14c0 1.1.9 2 2 2h14c1.1 0 2-.9 2-2V5c0-1.1-.9-2-2-2zM9 17H7v-7h2v7zm4 0h-2V7h2v10zm4 0h-2v-4h2v4z\"/>\n",
              "    </g>\n",
              "</svg>\n",
              "  </button>\n",
              "\n",
              "<style>\n",
              "  .colab-df-quickchart {\n",
              "      --bg-color: #E8F0FE;\n",
              "      --fill-color: #1967D2;\n",
              "      --hover-bg-color: #E2EBFA;\n",
              "      --hover-fill-color: #174EA6;\n",
              "      --disabled-fill-color: #AAA;\n",
              "      --disabled-bg-color: #DDD;\n",
              "  }\n",
              "\n",
              "  [theme=dark] .colab-df-quickchart {\n",
              "      --bg-color: #3B4455;\n",
              "      --fill-color: #D2E3FC;\n",
              "      --hover-bg-color: #434B5C;\n",
              "      --hover-fill-color: #FFFFFF;\n",
              "      --disabled-bg-color: #3B4455;\n",
              "      --disabled-fill-color: #666;\n",
              "  }\n",
              "\n",
              "  .colab-df-quickchart {\n",
              "    background-color: var(--bg-color);\n",
              "    border: none;\n",
              "    border-radius: 50%;\n",
              "    cursor: pointer;\n",
              "    display: none;\n",
              "    fill: var(--fill-color);\n",
              "    height: 32px;\n",
              "    padding: 0;\n",
              "    width: 32px;\n",
              "  }\n",
              "\n",
              "  .colab-df-quickchart:hover {\n",
              "    background-color: var(--hover-bg-color);\n",
              "    box-shadow: 0 1px 2px rgba(60, 64, 67, 0.3), 0 1px 3px 1px rgba(60, 64, 67, 0.15);\n",
              "    fill: var(--button-hover-fill-color);\n",
              "  }\n",
              "\n",
              "  .colab-df-quickchart-complete:disabled,\n",
              "  .colab-df-quickchart-complete:disabled:hover {\n",
              "    background-color: var(--disabled-bg-color);\n",
              "    fill: var(--disabled-fill-color);\n",
              "    box-shadow: none;\n",
              "  }\n",
              "\n",
              "  .colab-df-spinner {\n",
              "    border: 2px solid var(--fill-color);\n",
              "    border-color: transparent;\n",
              "    border-bottom-color: var(--fill-color);\n",
              "    animation:\n",
              "      spin 1s steps(1) infinite;\n",
              "  }\n",
              "\n",
              "  @keyframes spin {\n",
              "    0% {\n",
              "      border-color: transparent;\n",
              "      border-bottom-color: var(--fill-color);\n",
              "      border-left-color: var(--fill-color);\n",
              "    }\n",
              "    20% {\n",
              "      border-color: transparent;\n",
              "      border-left-color: var(--fill-color);\n",
              "      border-top-color: var(--fill-color);\n",
              "    }\n",
              "    30% {\n",
              "      border-color: transparent;\n",
              "      border-left-color: var(--fill-color);\n",
              "      border-top-color: var(--fill-color);\n",
              "      border-right-color: var(--fill-color);\n",
              "    }\n",
              "    40% {\n",
              "      border-color: transparent;\n",
              "      border-right-color: var(--fill-color);\n",
              "      border-top-color: var(--fill-color);\n",
              "    }\n",
              "    60% {\n",
              "      border-color: transparent;\n",
              "      border-right-color: var(--fill-color);\n",
              "    }\n",
              "    80% {\n",
              "      border-color: transparent;\n",
              "      border-right-color: var(--fill-color);\n",
              "      border-bottom-color: var(--fill-color);\n",
              "    }\n",
              "    90% {\n",
              "      border-color: transparent;\n",
              "      border-bottom-color: var(--fill-color);\n",
              "    }\n",
              "  }\n",
              "</style>\n",
              "\n",
              "  <script>\n",
              "    async function quickchart(key) {\n",
              "      const quickchartButtonEl =\n",
              "        document.querySelector('#' + key + ' button');\n",
              "      quickchartButtonEl.disabled = true;  // To prevent multiple clicks.\n",
              "      quickchartButtonEl.classList.add('colab-df-spinner');\n",
              "      try {\n",
              "        const charts = await google.colab.kernel.invokeFunction(\n",
              "            'suggestCharts', [key], {});\n",
              "      } catch (error) {\n",
              "        console.error('Error during call to suggestCharts:', error);\n",
              "      }\n",
              "      quickchartButtonEl.classList.remove('colab-df-spinner');\n",
              "      quickchartButtonEl.classList.add('colab-df-quickchart-complete');\n",
              "    }\n",
              "    (() => {\n",
              "      let quickchartButtonEl =\n",
              "        document.querySelector('#df-a14b5e17-423c-4192-a886-80d3a87de53c button');\n",
              "      quickchartButtonEl.style.display =\n",
              "        google.colab.kernel.accessAllowed ? 'block' : 'none';\n",
              "    })();\n",
              "  </script>\n",
              "</div>\n",
              "    </div>\n",
              "  </div>\n"
            ]
          },
          "metadata": {},
          "execution_count": 34
        }
      ]
    },
    {
      "cell_type": "code",
      "source": [
        "sns.barplot(data = timefinalDF, x=\"operator\", y=\"avg time\")"
      ],
      "metadata": {
        "colab": {
          "base_uri": "https://localhost:8080/",
          "height": 467
        },
        "id": "wPCUbdfEh4AM",
        "outputId": "97697d24-b90a-4186-da26-dd461c5b070a"
      },
      "execution_count": 35,
      "outputs": [
        {
          "output_type": "execute_result",
          "data": {
            "text/plain": [
              "<Axes: xlabel='operator', ylabel='avg time'>"
            ]
          },
          "metadata": {},
          "execution_count": 35
        },
        {
          "output_type": "display_data",
          "data": {
            "text/plain": [
              "<Figure size 640x480 with 1 Axes>"
            ],
            "image/png": "[encoded data removed]"
          },
          "metadata": {}
        }
      ]
    },
    {
      "cell_type": "code",
      "source": [
        "maxLength = 0\n",
        "\n",
        "for lst in timeDict.values():\n",
        "  if maxLength < len(lst):\n",
        "    maxLength = len(lst)"
      ],
      "metadata": {
        "id": "RFQ9kz9Mlt9D"
      },
      "execution_count": 37,
      "outputs": []
    },
    {
      "cell_type": "code",
      "source": [
        "for i in timeDict:\n",
        "  while ( len(timeDict[i]) < maxLength):\n",
        "    timeDict[i].append(0)"
      ],
      "metadata": {
        "id": "dwflW0PTmrmJ"
      },
      "execution_count": 38,
      "outputs": []
    },
    {
      "cell_type": "code",
      "source": [
        "timeDictDataF = pd.DataFrame(timeDict)"
      ],
      "metadata": {
        "id": "Lta-M6StlJsq"
      },
      "execution_count": 39,
      "outputs": []
    },
    {
      "cell_type": "code",
      "source": [
        "timeDataFrame = timeDictDataF.T"
      ],
      "metadata": {
        "id": "DBis8IGInXiQ"
      },
      "execution_count": 40,
      "outputs": []
    },
    {
      "cell_type": "code",
      "source": [
        "timeDataFrame[\"operators\"] = timeDataFrame.index"
      ],
      "metadata": {
        "id": "HovL_JXcne3W"
      },
      "execution_count": 41,
      "outputs": []
    },
    {
      "cell_type": "code",
      "source": [
        "sns.lineplot(data=timeDictDataF  )"
      ],
      "metadata": {
        "colab": {
          "base_uri": "https://localhost:8080/",
          "height": 448
        },
        "id": "RNJkjKnKlSNK",
        "outputId": "5bd41aff-6d46-4bbf-95c0-f21c1c96bda5"
      },
      "execution_count": 42,
      "outputs": [
        {
          "output_type": "execute_result",
          "data": {
            "text/plain": [
              "<Axes: >"
            ]
          },
          "metadata": {},
          "execution_count": 42
        },
        {
          "output_type": "display_data",
          "data": {
            "text/plain": [
              "<Figure size 640x480 with 1 Axes>"
            ],
            "image/png": "[encoded data removed]"
          },
          "metadata": {}
        }
      ]
    },
    {
      "cell_type": "code",
      "source": [],
      "metadata": {
        "id": "9Aupd1Ngn_ut"
      },
      "execution_count": 42,
      "outputs": []
    }
  ]
}